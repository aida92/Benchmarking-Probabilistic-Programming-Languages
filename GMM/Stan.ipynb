{
 "cells": [
  {
   "cell_type": "markdown",
   "metadata": {},
   "source": [
    "# Gaussian Mixture Model in Stan"
   ]
  },
  {
   "cell_type": "code",
   "execution_count": 2,
   "metadata": {
    "collapsed": false,
    "deletable": true,
    "editable": true
   },
   "outputs": [],
   "source": [
    "from timeit import default_timer as timer\n",
    "import numpy as np\n",
    "import pickle\n",
    "\n",
    "import pystan\n",
    "\n",
    "from utils import SEED, count_divergences"
   ]
  },
  {
   "cell_type": "markdown",
   "metadata": {},
   "source": [
    "## 1. Data"
   ]
  },
  {
   "cell_type": "code",
   "execution_count": 4,
   "metadata": {
    "collapsed": true,
    "deletable": true,
    "editable": true
   },
   "outputs": [],
   "source": [
    "def load_datasets(filename='gmm_6k.pkl', n=3):\n",
    "  \"\"\"\n",
    "  :param filename: name of the pickle file \n",
    "  :param n: number of datasets to read (defults to 3)\n",
    "  :return: list of loaded datasets in dict format\n",
    "  \"\"\"\n",
    "  datasets = []\n",
    "  with open(filename, 'rb') as f:\n",
    "    for i in range(n):\n",
    "      dataset = pickle.load(f)\n",
    "      datasets.append(dataset)      \n",
    "  return datasets"
   ]
  },
  {
   "cell_type": "markdown",
   "metadata": {},
   "source": [
    "## 2. Model"
   ]
  },
  {
   "cell_type": "code",
   "execution_count": 20,
   "metadata": {
    "collapsed": false,
    "deletable": true,
    "editable": true
   },
   "outputs": [
    {
     "name": "stderr",
     "output_type": "stream",
     "text": [
      "INFO:pystan:COMPILING THE C++ CODE FOR MODEL anon_model_ca775848777f6510647342598992bdde NOW.\n"
     ]
    }
   ],
   "source": [
    "# optionally\n",
    "# from stan_model import recompile_model\n",
    "# sm = recompile_model()"
   ]
  },
  {
   "cell_type": "code",
   "execution_count": 3,
   "metadata": {
    "collapsed": false,
    "deletable": true,
    "editable": true
   },
   "outputs": [],
   "source": [
    "with open('gmm_1d.pkl', 'rb') as f:\n",
    "    sm = pickle.load(f)"
   ]
  },
  {
   "cell_type": "markdown",
   "metadata": {
    "deletable": true,
    "editable": true
   },
   "source": [
    "## 3. Inference"
   ]
  },
  {
   "cell_type": "markdown",
   "metadata": {
    "deletable": true,
    "editable": true
   },
   "source": [
    "### NUTS"
   ]
  },
  {
   "cell_type": "code",
   "execution_count": 5,
   "metadata": {
    "collapsed": false,
    "deletable": true,
    "editable": true
   },
   "outputs": [],
   "source": [
    "def stan_nuts(filename='gmm_6k.pkl', n=3):\n",
    "  \"\"\"\n",
    "  Runs Stan NUTS algorithm\n",
    "  \"\"\"\n",
    "  datasets = load_datasets(filename, n)\n",
    "  \n",
    "  for dataset in datasets:\n",
    "    stan_data = {'N': dataset['N'], 'K': dataset['K'], 'y': dataset['y'], 'alpha': [1]*dataset['K']}\n",
    "    start = timer()\n",
    "    fit = sm.sampling(data=stan_data, seed=dataset['seed'], iter=5000, warmup=2000, thin=10, chains=4)\n",
    "    end = timer()\n",
    "    K = dataset['K']\n",
    "    e = fit.extract(permuted=False)[:,:,:3*K].mean(axis=1)\n",
    "    mu = e[:,:K]\n",
    "    sigma = e[:,K:2*K]\n",
    "    w = e[:,2*K:3*K]\n",
    "    results = {'mu': mu, 'sigma': sigma, 'w': w, 'time': end-start, 'iters': 5000, 'warmup': 2000, 'thin': 10, 'divergences': int(count_divergences(fit))}\n",
    "    with open('results/stan/nuts_{}k_{}.pkl'.format(K, dataset['seed']), 'wb') as f:\n",
    "      pickle.dump(results, f)\n",
    "    fits.append(fit)"
   ]
  },
  {
   "cell_type": "code",
   "execution_count": null,
   "metadata": {
    "collapsed": false,
    "deletable": true,
    "editable": true
   },
   "outputs": [],
   "source": [
    "stan_nuts(filename='gmm_3k.pkl', n=3) "
   ]
  },
  {
   "cell_type": "code",
   "execution_count": null,
   "metadata": {
    "collapsed": true,
    "deletable": true,
    "editable": true
   },
   "outputs": [],
   "source": [
    "stan_nuts(filename='gmm_6k.pkl', n=3) "
   ]
  },
  {
   "cell_type": "markdown",
   "metadata": {},
   "source": [
    "### ADVI"
   ]
  },
  {
   "cell_type": "code",
   "execution_count": 6,
   "metadata": {
    "collapsed": true,
    "deletable": true,
    "editable": true
   },
   "outputs": [],
   "source": [
    "def stan_vi(filename='gmm_6k.pkl', n=3):\n",
    "  \"\"\"\n",
    "  Runs Stan ADVI algorithm\n",
    "  \"\"\"\n",
    "  datasets = load_datasets(filename, n)\n",
    "    \n",
    "  for dataset in datasets:\n",
    "    stan_data = {'N': dataset['N'], 'K': dataset['K'], 'y': dataset['y'], 'alpha': [1]*dataset['K']}\n",
    "    iters = np.linspace(500, 50000, 10).astype(int)\n",
    "    for it in iters:\n",
    "      start = timer()\n",
    "      fit = sm.vb(data=stan_data, algorithm='meanfield', iter=it, \n",
    "                        tol_rel_obj=0.000001, seed=dataset['seed'], output_samples=1000)\n",
    "      end = timer()\n",
    "      K = dataset['K']\n",
    "      e = fit['sampler_params']\n",
    "      mu = np.array(e[:K])\n",
    "      sigma = np.array(e[K:2*K])\n",
    "      w = np.array(e[2*K:3*K])\n",
    "      results = {'mu': mu, 'sigma': sigma, 'w': w, 'time': end-start, 'iters': it, 'tol': 0.000001}\n",
    "      with open('results/stan/vi_{}k_{}.pkl'.format(K, dataset['seed']), 'ab') as f:\n",
    "        pickle.dump(results, f)"
   ]
  },
  {
   "cell_type": "code",
   "execution_count": null,
   "metadata": {
    "collapsed": false,
    "deletable": true,
    "editable": true
   },
   "outputs": [],
   "source": [
    "stan_vi(filename='gmm_3k.pkl', n=3)"
   ]
  },
  {
   "cell_type": "code",
   "execution_count": null,
   "metadata": {
    "collapsed": false,
    "deletable": true,
    "editable": true
   },
   "outputs": [],
   "source": [
    "stan_vi(filename='gmm_6k.pkl', n=3)"
   ]
  },
  {
   "cell_type": "markdown",
   "metadata": {},
   "source": [
    "## References\n",
    "\n",
    "[1] Carpenter, Bob [Mixture models in Stan](http://andrewgelman.com/2017/08/21/mixture-models-stan-can-use-log\\_mix)\n",
    "\n",
    "[2] Lieu, Maggie [Multivariate Gaussian Mixture Model done properly](https://maggielieu.com/2017/03/21/multivariate-gaussian-mixture-model-done-properly)\n",
    "\n",
    "[3] Betancourt, Michael [Identifying Bayesian Mixture Models](http://mc-stan.org/users/documentation/case-studies/identifying_mixture_models.html)\n"
   ]
  },
  {
   "cell_type": "code",
   "execution_count": null,
   "metadata": {
    "collapsed": true,
    "deletable": true,
    "editable": true
   },
   "outputs": [],
   "source": []
  }
 ],
 "metadata": {
  "kernelspec": {
   "display_name": "Python 3",
   "language": "python",
   "name": "python3"
  },
  "language_info": {
   "codemirror_mode": {
    "name": "ipython",
    "version": 3
   },
   "file_extension": ".py",
   "mimetype": "text/x-python",
   "name": "python",
   "nbconvert_exporter": "python",
   "pygments_lexer": "ipython3",
   "version": "3.5.5"
  }
 },
 "nbformat": 4,
 "nbformat_minor": 2
}
