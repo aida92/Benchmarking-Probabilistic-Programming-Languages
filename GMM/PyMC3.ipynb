{
 "cells": [
  {
   "cell_type": "markdown",
   "metadata": {},
   "source": [
    "# Gaussian Mixture Model in PyMC3"
   ]
  },
  {
   "cell_type": "code",
   "execution_count": 1,
   "metadata": {
    "collapsed": false,
    "deletable": true,
    "editable": true
   },
   "outputs": [
    {
     "name": "stderr",
     "output_type": "stream",
     "text": [
      "/usr/local/envs/py3env/lib/python3.5/site-packages/h5py/__init__.py:36: FutureWarning: Conversion of the second argument of issubdtype from `float` to `np.floating` is deprecated. In future, it will be treated as `np.float64 == np.dtype(float).type`.\n",
      "  from ._conv import register_converters as _register_converters\n"
     ]
    }
   ],
   "source": [
    "from timeit import default_timer as timer\n",
    "import numpy as np\n",
    "import pickle\n",
    "\n",
    "import pymc3 as pm\n",
    "\n",
    "from utils import generate_datasets, SEED"
   ]
  },
  {
   "cell_type": "markdown",
   "metadata": {},
   "source": [
    "## 1. Data"
   ]
  },
  {
   "cell_type": "code",
   "execution_count": 2,
   "metadata": {
    "collapsed": true,
    "deletable": true,
    "editable": true
   },
   "outputs": [],
   "source": [
    "def load_datasets(filename='gmm_6k.pkl', n=3):\n",
    "    \"\"\"\n",
    "    :param filename: name of the pickle file \n",
    "    :param n: number of datasets to read (defults to 3)\n",
    "    :return: list of loaded datasets in dict format\n",
    "    \"\"\"\n",
    "    datasets = []\n",
    "        with open(filename, 'rb') as f:\n",
    "            for i in range(n):\n",
    "                dataset = pickle.load(f)\n",
    "                datasets.append(dataset)      \n",
    "    return datasets"
   ]
  },
  {
   "cell_type": "markdown",
   "metadata": {
    "deletable": true,
    "editable": true
   },
   "source": [
    "## 2. Model"
   ]
  },
  {
   "cell_type": "code",
   "execution_count": 3,
   "metadata": {
    "collapsed": true,
    "deletable": true,
    "editable": true
   },
   "outputs": [],
   "source": [
    "def pymc3_model(K, y):\n",
    "    model = pm.Model()\n",
    "\n",
    "      with model:\n",
    "        w = pm.Dirichlet('w', np.ones(K))\n",
    "\n",
    "        mu = pm.Normal('mu', 0., 10., shape=[K])\n",
    "        sigma = pm.InverseGamma('sigma', 1., 1., shape=[K])\n",
    "\n",
    "        y_obs = pm.NormalMixture('y_obs', w, mu, sd=sigma, observed=y)\n",
    "    return model"
   ]
  },
  {
   "cell_type": "markdown",
   "metadata": {
    "deletable": true,
    "editable": true
   },
   "source": [
    "## 2. Inference"
   ]
  },
  {
   "cell_type": "code",
   "execution_count": 4,
   "metadata": {
    "collapsed": true,
    "deletable": true,
    "editable": true
   },
   "outputs": [],
   "source": [
    "def pymc3_nuts(filename='gmm_6k.pkl', n=3):\n",
    "  datasets = load_datasets(filename, n)\n",
    "  \n",
    "  for dataset in datasets:\n",
    "    print('...')\n",
    "    model = pymc3_model(dataset['K'], dataset['y'])\n",
    "    with model:\n",
    "      start = timer()\n",
    "      trace = pm.sample(3000, tune=2000, random_seed = dataset['seed'], chains=4)\n",
    "      end = timer()\n",
    "    trace_thin = trace[::10]\n",
    "    \n",
    "    mu_ = np.array(trace_thin.get_values('mu', combine=False)).mean(axis=0)\n",
    "    sigma_ = np.array(trace_thin.get_values('sigma', combine=False)).mean(axis=0)\n",
    "    w_ = np.array(trace_thin.get_values('w', combine=False)).mean(axis=0)\n",
    "\n",
    "    divergent = trace_thin['diverging'].nonzero()[0].size\n",
    "    results = {'mu': mu_, 'sigma': sigma_, 'w': w_, 'seed': dataset['seed'], \n",
    "               'iters': 5000, 'warmup': 2000, 'time': end-start, 'thin': 10, 'divergences': divergent}\n",
    "    \n",
    "    with open('results/pymc3/nuts_{}k_{}.pkl'.format(dataset['K'], dataset['seed']), 'wb') as f:\n",
    "      pickle.dump(results, f)\n",
    "  print('Done')"
   ]
  },
  {
   "cell_type": "code",
   "execution_count": null,
   "metadata": {
    "collapsed": false,
    "deletable": true,
    "editable": true
   },
   "outputs": [],
   "source": [
    "pymc3_nuts(filename='gmm_3k.pkl')"
   ]
  },
  {
   "cell_type": "code",
   "execution_count": null,
   "metadata": {
    "collapsed": false,
    "deletable": true,
    "editable": true
   },
   "outputs": [],
   "source": [
    "pymc3_nuts(filename='gmm_6k.pkl')"
   ]
  },
  {
   "cell_type": "markdown",
   "metadata": {},
   "source": [
    "### ADVI"
   ]
  },
  {
   "cell_type": "code",
   "execution_count": 6,
   "metadata": {
    "collapsed": true,
    "deletable": true,
    "editable": true
   },
   "outputs": [],
   "source": [
    "def pymc3_vi(filename='gmm_6k.pkl', n=3):\n",
    "  \"\"\"\n",
    "  Runs PyMC3's ADVI algorithm (meanfield approximation) for each seed\n",
    "  \"\"\"\n",
    "  datasets = load_datasets(filename, n)\n",
    "  for dataset in datasets:\n",
    "    model = pymc3_model(dataset['K'], dataset['y'])\n",
    "    iters = np.linspace(500, 50000, 10).astype(int)\n",
    "    for n in iters:\n",
    "      with model:\n",
    "        start = timer()\n",
    "        advi_fit = pm.fit(n=n, random_seed=dataset['seed'], callbacks=[pm.callbacks.CheckParametersConvergence(diff='absolute', tolerance=0.000001)])\n",
    "        end = timer()\n",
    "        print('Time: ', end-start)\n",
    "        trace = advi_fit.sample(draws=1000)\n",
    "        mu_ = np.array(trace.get_values('mu'))\n",
    "        sigma_ = np.array(trace.get_values('sigma'))\n",
    "        w_ = np.array(trace.get_values('w'))\n",
    "                      \n",
    "        results = {'iters': n, 'tol': 0.000001, 'time': end-start, 'mu': mu_, 'sigma': sigma_, 'w': w_}\n",
    "        pickle.dump(results, open('results/pymc3/vi_{}k_{}.pkl'.format(dataset['K'], dataset['seed']), 'ab'))\n",
    "    print('Done')"
   ]
  },
  {
   "cell_type": "code",
   "execution_count": null,
   "metadata": {
    "collapsed": true
   },
   "outputs": [],
   "source": [
    "pymc3_vi(filename='gmm_3k.pkl', n=3)"
   ]
  },
  {
   "cell_type": "code",
   "execution_count": null,
   "metadata": {
    "collapsed": true
   },
   "outputs": [],
   "source": [
    "pymc3_vi(filename='gmm_6k.pkl', n=3)"
   ]
  },
  {
   "cell_type": "markdown",
   "metadata": {},
   "source": [
    "## References\n",
    "\n",
    "[1] Rochford, Austin [Marginalized Gaussian mixture model](https://docs.pymc.io/notebooks/marginalized_gaussian_mixture_model.html)"
   ]
  }
 ],
 "metadata": {
  "kernelspec": {
   "display_name": "Python 3",
   "language": "python",
   "name": "python3"
  },
  "language_info": {
   "codemirror_mode": {
    "name": "ipython",
    "version": 3
   },
   "file_extension": ".py",
   "mimetype": "text/x-python",
   "name": "python",
   "nbconvert_exporter": "python",
   "pygments_lexer": "ipython3",
   "version": "3.5.5"
  }
 },
 "nbformat": 4,
 "nbformat_minor": 2
}
