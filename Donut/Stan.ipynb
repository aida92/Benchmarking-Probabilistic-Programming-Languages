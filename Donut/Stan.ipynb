{
 "cells": [
  {
   "cell_type": "markdown",
   "metadata": {},
   "source": [
    "# Donut in Stan"
   ]
  },
  {
   "cell_type": "code",
   "execution_count": null,
   "metadata": {},
   "outputs": [],
   "source": [
    "from timeit import default_timer as timer\n",
    "import matplotlib.pyplot as plt\n",
    "from matplotlib import cm\n",
    "from mpl_toolkits.mplot3d import Axes3D\n",
    "import seaborn as sns\n",
    "import pickle\n",
    "import numpy as np\n",
    "\n",
    "import pystan as ps\n",
    "\n",
    "from utils import generate_datasets, count_divergences, SEED"
   ]
  },
  {
   "cell_type": "code",
   "execution_count": null,
   "metadata": {},
   "outputs": [],
   "source": [
    "print(ps.__version__)"
   ]
  },
  {
   "cell_type": "markdown",
   "metadata": {},
   "source": [
    "## 1. Model"
   ]
  },
  {
   "cell_type": "code",
   "execution_count": null,
   "metadata": {
    "collapsed": true
   },
   "outputs": [],
   "source": [
    "# optionally\n",
    "# from stan_model import *\n",
    "# recompile_model()"
   ]
  },
  {
   "cell_type": "code",
   "execution_count": null,
   "metadata": {
    "collapsed": true
   },
   "outputs": [],
   "source": [
    "sm = pickle.load(open('sm_donut.pkl', 'rb'))"
   ]
  },
  {
   "cell_type": "markdown",
   "metadata": {},
   "source": [
    "## 2. Inference"
   ]
  },
  {
   "cell_type": "markdown",
   "metadata": {},
   "source": [
    "### NUTS"
   ]
  },
  {
   "cell_type": "code",
   "execution_count": null,
   "metadata": {
    "collapsed": true
   },
   "outputs": [],
   "source": [
    "def stan_nuts(model, n_samples, n_dim, seeds=SEED):\n",
    "  \"\"\"\n",
    "  Runs Stan's NUTS algorithm\n",
    "  \"\"\"\n",
    "  Y, C, R, r = generate_datasets(n_samples, n_dim, seeds)\n",
    "  \n",
    "  for seed, y in zip(seeds, Y):\n",
    "    stan_data = dict(N=n_samples, D=n_dim, y=y)\n",
    "\n",
    "    print(seed)\n",
    "    start = timer()\n",
    "    fit = model.sampling(data=stan_data, iter=2000, warmup=1000,\n",
    "                            chains=4, control=dict(adapt_delta=0.99))\n",
    "    end = timer()\n",
    "    results = {'iters': 2000, 'warmup': 1000, 'divergences': int(count_divergences(fit)), 'time': end-start}\n",
    "    with open('results/stan/nuts_{}d_{}'.format(n_dim, seed), 'wb') as f:\n",
    "      pickle.dump(results, f)\n",
    "  print('Done')"
   ]
  },
  {
   "cell_type": "code",
   "execution_count": null,
   "metadata": {
    "collapsed": true
   },
   "outputs": [],
   "source": [
    "# Small dataset\n",
    "n_samples = 1000\n",
    "n_dim = 2\n",
    "stan_nuts(sm, n_samples, n_dim)"
   ]
  },
  {
   "cell_type": "code",
   "execution_count": null,
   "metadata": {
    "collapsed": true
   },
   "outputs": [],
   "source": [
    "# Big dataset\n",
    "n_samples = 5000\n",
    "n_dim = 5\n",
    "stan_nuts(sm, n_samples, n_dim)"
   ]
  },
  {
   "cell_type": "markdown",
   "metadata": {},
   "source": [
    "## VI"
   ]
  },
  {
   "cell_type": "code",
   "execution_count": null,
   "metadata": {
    "collapsed": true
   },
   "outputs": [],
   "source": [
    "def stan_vi(model, n_samples, n_dim, seeds=SEED):\n",
    "  \"\"\"\n",
    "  Runs Stan's ADVI algorithm (Meanfield approximation)\n",
    "  \"\"\"\n",
    "  Y, C, R, r = generate_datasets(n_samples, n_dim, seeds)\n",
    "  \n",
    "  for seed, y in zip(seeds, Y):\n",
    "    stan_data = dict(N=n_samples, D=n_dim, y=y)\n",
    "\n",
    "    print(seed)\n",
    "    iters = np.linspace(1000, 50000, 5).astype(int)\n",
    "    for it in iters:\n",
    "      start = timer()\n",
    "      fit = model.vb(data=stan_data, algorithm='meanfield', iter=it, \n",
    "                        tol_rel_obj=0.0001, seed=seed, output_samples=1000)\n",
    "      end = timer()\n",
    "        \n",
    "      e = fit['sampler_params']\n",
    "      results = {'iters': it, 'tol': 0.0001, 'time': end-start, 'R': e[0], 'r': e[1]}\n",
    "      for i in range(n_dim):\n",
    "        results['C_{}'.format(i)] = e[2 + i]\n",
    "          \n",
    "      with open('results/stan/vi_{}d_{}.pkl'.format(n_dim, seed), 'ab') as f:\n",
    "          pickle.dump(results, f)\n",
    "  print('Done')"
   ]
  },
  {
   "cell_type": "code",
   "execution_count": null,
   "metadata": {
    "collapsed": true
   },
   "outputs": [],
   "source": [
    "# Small dataset\n",
    "n_samples = 1000\n",
    "n_dim = 2\n",
    "stan_vi(sm, n_samples, n_dim)"
   ]
  },
  {
   "cell_type": "code",
   "execution_count": null,
   "metadata": {},
   "outputs": [],
   "source": [
    "# Big dataset\n",
    "n_samples = 5000\n",
    "n_dim = 5\n",
    "stan_vi(sm, n_samples, n_dim)"
   ]
  }
 ],
 "metadata": {
  "kernelspec": {
   "display_name": "Python 3",
   "language": "python",
   "name": "python3"
  },
  "language_info": {
   "codemirror_mode": {
    "name": "ipython",
    "version": 3
   },
   "file_extension": ".py",
   "mimetype": "text/x-python",
   "name": "python",
   "nbconvert_exporter": "python",
   "pygments_lexer": "ipython3",
   "version": "3.6.3"
  }
 },
 "nbformat": 4,
 "nbformat_minor": 2
}
