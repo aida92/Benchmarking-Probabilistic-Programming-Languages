{
 "cells": [
  {
   "cell_type": "markdown",
   "metadata": {},
   "source": [
    "# Donut in PyMC3"
   ]
  },
  {
   "cell_type": "code",
   "execution_count": null,
   "metadata": {
    "collapsed": false,
    "deletable": true,
    "editable": true
   },
   "outputs": [],
   "source": [
    "import matplotlib.pyplot as plt\n",
    "from matplotlib import cm\n",
    "from mpl_toolkits.mplot3d import Axes3D\n",
    "import seaborn as sns\n",
    "import pickle\n",
    "from timeit import default_timer as timer\n",
    "import numpy as np\n",
    "import theano.tensor as tt\n",
    "from scipy.stats.kde import gaussian_kde\n",
    "from scipy.integrate import quad, nquad\n",
    "\n",
    "from utils import generate_datasets, SEED\n",
    "\n",
    "import pymc3 as pm"
   ]
  },
  {
   "cell_type": "code",
   "execution_count": 2,
   "metadata": {
    "collapsed": false,
    "deletable": true,
    "editable": true
   },
   "outputs": [
    {
     "data": {
      "text/plain": [
       "'3.4.1'"
      ]
     },
     "execution_count": 2,
     "metadata": {},
     "output_type": "execute_result"
    }
   ],
   "source": [
    "pm.__version__"
   ]
  },
  {
   "cell_type": "markdown",
   "metadata": {
    "deletable": true,
    "editable": true
   },
   "source": [
    "## 1. Model"
   ]
  },
  {
   "cell_type": "code",
   "execution_count": 3,
   "metadata": {
    "collapsed": true,
    "deletable": true,
    "editable": true
   },
   "outputs": [],
   "source": [
    "def pymc3_model(x, n_samples, n_dim):\n",
    "    with pm.Model() as model:\n",
    "        R = pm.HalfNormal('R', 10)\n",
    "        r = pm.HalfNormal('r', 10)\n",
    "        C = pm.Normal('C', 10, shape=n_dim)\n",
    "        v = pm.Normal('v', np.zeros(n_dim), np.ones(n_dim), shape=(n_samples,n_dim))   \n",
    "        v = v / v.norm(L=2, axis=1).reshape((v.shape[0], 1))\n",
    "        x_obs = pm.Normal('y_obs', C + v*R , r, observed=x)\n",
    "    return model"
   ]
  },
  {
   "cell_type": "markdown",
   "metadata": {
    "deletable": true,
    "editable": true
   },
   "source": [
    "## 2. Inference"
   ]
  },
  {
   "cell_type": "markdown",
   "metadata": {
    "deletable": true,
    "editable": true
   },
   "source": [
    "### NUTS"
   ]
  },
  {
   "cell_type": "code",
   "execution_count": 12,
   "metadata": {
    "collapsed": true,
    "deletable": true,
    "editable": true
   },
   "outputs": [],
   "source": [
    "def pymc3_nuts(n_samples, n_dim, seeds=SEED):\n",
    "  \"\"\"\n",
    "  Runs PyMC3's NUTS algorithm for each seed\n",
    "  \"\"\"\n",
    "  Y, C, R, r = generate_datasets(n_samples, n_dim, seeds)\n",
    "  for seed, y in zip(seeds, Y):\n",
    "    model = pymc3_model(y, n_samples, n_dim)\n",
    "    with model:\n",
    "        print('...')\n",
    "        start = timer()\n",
    "        trace = pm.sample(draws=1000, tune=1000, chains=4, cores=4, nuts_kwargs=dict(target_accept=.99)) # max_treedepth=10\n",
    "        end = timer()\n",
    "    divergent = trace['diverging'].nonzero()[0].size\n",
    "    R_ = np.array(trace.get_values('R', combine=False)).mean(axis=0)[:,None]\n",
    "    r_ = np.array(trace.get_values('r', combine=False)).mean(axis=0)[:,None]\n",
    "    C_ = np.array(trace.get_values('C', combine=False)).mean(axis=0)\n",
    "    results = {'R': R_, 'r': r_, 'C': C_, 'iters': 2000, 'warmup': 1000, 'time': end-start, 'divergences': divergent}\n",
    "    \n",
    "  print('Done')"
   ]
  },
  {
   "cell_type": "code",
   "execution_count": null,
   "metadata": {
    "collapsed": true,
    "deletable": true,
    "editable": true
   },
   "outputs": [],
   "source": [
    "# Small dataset\n",
    "n_samples = 1000\n",
    "n_dim = 2\n",
    "pymc3_nuts(n_samples, n_dim)"
   ]
  },
  {
   "cell_type": "code",
   "execution_count": null,
   "metadata": {
    "collapsed": true,
    "deletable": true,
    "editable": true
   },
   "outputs": [],
   "source": [
    "# Big dataset\n",
    "n_samples = 5000\n",
    "n_dim = 5\n",
    "pymc3_nuts(n_samples, n_dim)"
   ]
  },
  {
   "cell_type": "markdown",
   "metadata": {
    "deletable": true,
    "editable": true
   },
   "source": [
    "### ADVI"
   ]
  },
  {
   "cell_type": "code",
   "execution_count": 3,
   "metadata": {
    "collapsed": false,
    "deletable": true,
    "editable": true
   },
   "outputs": [],
   "source": [
    "def pymc3_vi(n_samples, n_dim, seeds=SEED):\n",
    "  \"\"\"\n",
    "  Runs PyMC3's ADVI algorithm (meanfield approximation) for each seed\n",
    "  \"\"\"\n",
    "  Y, C, R, r = generate_datasets(n_samples, n_dim, seeds)\n",
    "  for seed, y in zip(seeds, Y):\n",
    "    model = pymc3_model(y, n_samples, n_dim)\n",
    "    iters = np.linspace(1000, 50000, 5).astype(int)\n",
    "    for n in iters:\n",
    "      with model:\n",
    "        start = timer()\n",
    "        advi_fit = pm.fit(n=n, random_seed=seed, callbacks=[pm.callbacks.CheckParametersConvergence(diff='absolute', tolerance=0.0001)])\n",
    "        end = timer()\n",
    "        print('Time: ', end-start)\n",
    "        trace = advi_fit.sample(draws=1000)\n",
    "        R_ = np.array(trace.get_values('R'))\n",
    "        r_ = np.array(trace.get_values('r'))\n",
    "        C_ = np.array(trace.get_values('C'))\n",
    "                      \n",
    "        results = {'iters': n, 'tol': 0.0001, 'time': end-start, 'R': R_, 'r': r_, 'C': C_}\n",
    "        pickle.dump(results, open('results/pymc3/vi_{}d_{}.pkl'.format(n_dim, seed), 'ab'))\n",
    "    print('Done')"
   ]
  },
  {
   "cell_type": "code",
   "execution_count": null,
   "metadata": {
    "collapsed": false,
    "deletable": true,
    "editable": true
   },
   "outputs": [],
   "source": [
    "# Small dataset\n",
    "n_samples = 1000\n",
    "n_dim = 2\n",
    "pymc3_vi(n_samples, n_dim, seeds=SEED)"
   ]
  },
  {
   "cell_type": "code",
   "execution_count": null,
   "metadata": {
    "collapsed": false,
    "deletable": true,
    "editable": true
   },
   "outputs": [],
   "source": [
    "# Big dataset\n",
    "n_samples = 5000\n",
    "n_dim = 5\n",
    "pymc3_vi(n_samples, n_dim, seeds=SEED)"
   ]
  }
 ],
 "metadata": {
  "kernelspec": {
   "display_name": "Python 3",
   "language": "python",
   "name": "python3"
  },
  "language_info": {
   "codemirror_mode": {
    "name": "ipython",
    "version": 3
   },
   "file_extension": ".py",
   "mimetype": "text/x-python",
   "name": "python",
   "nbconvert_exporter": "python",
   "pygments_lexer": "ipython3",
   "version": "3.5.5"
  }
 },
 "nbformat": 4,
 "nbformat_minor": 2
}
