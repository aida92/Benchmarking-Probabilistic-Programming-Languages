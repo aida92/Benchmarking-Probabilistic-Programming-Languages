{
 "cells": [
  {
   "cell_type": "markdown",
   "metadata": {
    "deletable": true,
    "editable": true
   },
   "source": [
    "# One Way Normal Model in PyMC3"
   ]
  },
  {
   "cell_type": "code",
   "execution_count": 16,
   "metadata": {
    "collapsed": false,
    "deletable": true,
    "editable": true
   },
   "outputs": [],
   "source": [
    "from timeit import default_timer as timer\n",
    "import numpy as np\n",
    "import pickle\n",
    "\n",
    "import pymc3 as pm\n",
    "\n",
    "from utils import generate_datasets, SEED, I, SIGMA"
   ]
  },
  {
   "cell_type": "markdown",
   "metadata": {
    "deletable": true,
    "editable": true
   },
   "source": [
    "## 1. Models"
   ]
  },
  {
   "cell_type": "code",
   "execution_count": 15,
   "metadata": {
    "collapsed": true,
    "deletable": true,
    "editable": true
   },
   "outputs": [],
   "source": [
    "# Centered \n",
    "def pymc3_model_c(y, I=I, sigma=SIGMA):\n",
    "  model = pm.Model()\n",
    "\n",
    "  with model:\n",
    "    mu = pm.Normal('mu', mu=0, sd=5);\n",
    "    tau = pm.HalfCauchy('tau', beta=2.5);\n",
    "    theta = pm.Normal('theta', mu=mu, sd=tau, shape=I);\n",
    "    y_obs = pm.Normal('y_obs', mu=theta, sd=sigma, observed=y);\n",
    "    \n",
    "  return model\n",
    "  \n",
    "# Non-centered\n",
    "def pymc3_model_nc(y, I=I, sigma=SIGMA):\n",
    "  model = pm.Model()\n",
    "\n",
    "  with model:\n",
    "    mu = pm.Normal('mu', mu=0, sd=5);\n",
    "    tau = pm.HalfCauchy('tau', beta=2.5);\n",
    "    vtheta = pm.Normal('vtheta', mu=0, sd=1, shape=I);\n",
    "    y_obs = pm.Normal('y_obs', mu=tau*vtheta + mu, sd=sigma, observed=y);\n",
    "    \n",
    "  return model"
   ]
  },
  {
   "cell_type": "markdown",
   "metadata": {
    "deletable": true,
    "editable": true
   },
   "source": [
    "## 2. Inference"
   ]
  },
  {
   "cell_type": "markdown",
   "metadata": {
    "deletable": true,
    "editable": true
   },
   "source": [
    "### NUTS"
   ]
  },
  {
   "cell_type": "code",
   "execution_count": null,
   "metadata": {
    "collapsed": true,
    "deletable": true,
    "editable": true
   },
   "outputs": [],
   "source": [
    "def pymc3_nuts_c(seeds=SEED):\n",
    "  \"\"\"\n",
    "  Runs PyMC3's NUTS algorithm for centered parameterization\n",
    "  Default parameters: configuration from the paper\n",
    "  \"\"\"\n",
    "  Y, theta = generate_datasets(seeds=seeds)\n",
    "  \n",
    "  for y,seed in zip(Y, seeds):\n",
    "    print(seed)\n",
    "    pm_model_c = pymc3_model_c(I, sigma, y, seed)\n",
    "    \n",
    "    with pm_model_c:\n",
    "      start = timer()\n",
    "      # In stan: total iters 100000 (incl.warmup) \n",
    "      trace = pm.sample(draws=95000, tune=5000, chains=4, random_seed=seed, nuts_kwargs=dict(target_accept=0.999))\n",
    "      end = timer()\n",
    "      trace_thin = trace[::1000]\n",
    "      mu = np.array(trace_thin.get_values('mu', combine=False)).mean(axis=0)\n",
    "      tau = np.array(trace_thin.get_values('tau', combine=False)).mean(axis=0)\n",
    "      results = {'mu': mu, 'tau': tau, 'time': end-start, 'iters': 100000, 'tune': 5000, \n",
    "                 'thin': 1000, 'divergences': int(trace_thin['diverging'].nonzero()[0].size)}\n",
    "      with open('results/pymc3/nuts_c_{}.pkl'.format(seed), 'wb') as f:\n",
    "        pickle.dump(results, f)\n",
    "  print('Done')"
   ]
  },
  {
   "cell_type": "code",
   "execution_count": null,
   "metadata": {
    "collapsed": true,
    "deletable": true,
    "editable": true
   },
   "outputs": [],
   "source": [
    "def pymc3_nuts_nc(iters=45000, tune=5000, adapt_delta=0.8, mode='nominal', seeds=SEED):\n",
    "  \"\"\"\n",
    "  Runs PyMC3's NUTS algorithm for centered parameterization\n",
    "  Default parameters: nominal configuration from the paper\n",
    "  For baseline use: iters=95000, tune=5000, adapt_delta=0.99, mode='baseline'\n",
    "  \"\"\"\n",
    "  Y, theta = generate_datasets(seeds=seeds)\n",
    "  \n",
    "  for y,seed in zip(Y, seeds):\n",
    "    print(seed)\n",
    "    pm_model_c = pymc3_model_c(I, sigma, y, seed)\n",
    "    \n",
    "    with pm_model_c:\n",
    "      start = timer()\n",
    "      # In stan: total iters 50000 (incl.warmup) for nominal, 100000 for baseline \n",
    "      trace = pm.sample(draws=iters, tune=tune, chains=4, random_seed=seed, nuts_kwargs=dict(target_accept=adapt_delta))\n",
    "      end = timer()\n",
    "      results = {'mu': trace['mu'], 'tau': trace['tau'], 'time': end-start, 'iters': iters, \n",
    "                 'tune': tune, 'divergences': int(trace['diverging'].nonzero()[0].size)}\n",
    "      with open('results/pymc3/nuts_nc_{}_{}.pkl'.format(mode, seed), 'wb') as f:\n",
    "        pickle.dump(results, f)\n",
    "  print('Done')"
   ]
  },
  {
   "cell_type": "code",
   "execution_count": null,
   "metadata": {
    "collapsed": true,
    "deletable": true,
    "editable": true
   },
   "outputs": [],
   "source": [
    "# centered\n",
    "pymc3_nuts_c()"
   ]
  },
  {
   "cell_type": "code",
   "execution_count": null,
   "metadata": {
    "collapsed": true,
    "deletable": true,
    "editable": true
   },
   "outputs": [],
   "source": [
    "# nominal\n",
    "pymc3_nuts_nc()"
   ]
  },
  {
   "cell_type": "code",
   "execution_count": null,
   "metadata": {
    "collapsed": true,
    "deletable": true,
    "editable": true
   },
   "outputs": [],
   "source": [
    "# baseline\n",
    "pymc3_nuts_nc(iters=95000, tune=5000, adapt_delta=0.99, mode='baseline')"
   ]
  },
  {
   "cell_type": "markdown",
   "metadata": {
    "deletable": true,
    "editable": true
   },
   "source": [
    "## ADVI"
   ]
  },
  {
   "cell_type": "code",
   "execution_count": 33,
   "metadata": {
    "collapsed": true,
    "deletable": true,
    "editable": true
   },
   "outputs": [],
   "source": [
    "def pymc3_vi(mode='c', seeds=SEED):\n",
    "  \"\"\"\n",
    "  Runs PyMC3 ADVI algorithm\n",
    "  If mode is 'c', use the centered parameterization\n",
    "  If mode is 'nc', use the non-centered parameterization\n",
    "  \"\"\"\n",
    "  if mode not in ['c', 'nc']:\n",
    "    raise \"Mode has to be 'c' for centered or 'nc'\"\n",
    "  Y, theta = generate_datasets(seeds=seeds)\n",
    "  for seed, y in zip(seeds, Y):\n",
    "    model = pymc3_model_c(y) if mode == 'c' else pymc3_model_nc(y) \n",
    "    iters = np.linspace(50000, 500000, 5).astype(int)\n",
    "    for n in iters:\n",
    "      with model:\n",
    "        print('...')\n",
    "        start = timer()\n",
    "        advi_fit = pm.fit(n=n, random_seed=seed, callbacks=[pm.callbacks.CheckParametersConvergence(diff='absolute', tolerance=0.0001)])\n",
    "        end = timer()\n",
    "        trace = advi_fit.sample(draws=1000)\n",
    "        mu_ = np.array(trace.get_values('mu'))\n",
    "        tau_ = np.array(trace.get_values('tau'))\n",
    "                      \n",
    "        results = {'iters': n, 'tol': 0.0001, 'time': end-start, 'mu': mu_, 'tau': tau_}\n",
    "        pickle.dump(results, open('results/pymc3/vi_{}_{}.pkl'.format(mode, seed), 'ab'))\n",
    "    print('Done')"
   ]
  },
  {
   "cell_type": "code",
   "execution_count": null,
   "metadata": {
    "collapsed": true,
    "deletable": true,
    "editable": true
   },
   "outputs": [],
   "source": [
    "pymc3_vi(mode='c')"
   ]
  },
  {
   "cell_type": "code",
   "execution_count": null,
   "metadata": {
    "collapsed": false,
    "deletable": true,
    "editable": true
   },
   "outputs": [],
   "source": [
    "pymc3_vi(mode='nc')"
   ]
  },
  {
   "cell_type": "markdown",
   "metadata": {
    "deletable": true,
    "editable": true
   },
   "source": [
    "### References\n",
    "\n",
    "[1] Betancourt, Michael J. and Girolami, Mark. Hamiltonian Monte Carlo for Hierarchical Models. 2013."
   ]
  }
 ],
 "metadata": {
  "kernelspec": {
   "display_name": "Python 3",
   "language": "python",
   "name": "python3"
  },
  "language_info": {
   "codemirror_mode": {
    "name": "ipython",
    "version": 3
   },
   "file_extension": ".py",
   "mimetype": "text/x-python",
   "name": "python",
   "nbconvert_exporter": "python",
   "pygments_lexer": "ipython3",
   "version": "3.5.5"
  }
 },
 "nbformat": 4,
 "nbformat_minor": 2
}
