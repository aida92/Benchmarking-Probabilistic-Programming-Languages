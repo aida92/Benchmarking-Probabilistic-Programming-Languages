{
 "cells": [
  {
   "cell_type": "markdown",
   "metadata": {},
   "source": [
    "# One Way Normal Model in Stan"
   ]
  },
  {
   "cell_type": "code",
   "execution_count": null,
   "metadata": {},
   "outputs": [],
   "source": [
    "from timeit import default_timer as timer\n",
    "import numpy as np\n",
    "import pickle\n",
    "\n",
    "import pystan\n",
    "\n",
    "from utils import generate_datasets, count_divergences, SEED, I, SIGMA"
   ]
  },
  {
   "cell_type": "markdown",
   "metadata": {},
   "source": [
    "## 1. Models"
   ]
  },
  {
   "cell_type": "code",
   "execution_count": null,
   "metadata": {},
   "outputs": [],
   "source": [
    "# optionally:\n",
    "# from stan_model import *\n",
    "# recompile_centered_model()\n",
    "# recompile_non_centered_model()"
   ]
  },
  {
   "cell_type": "code",
   "execution_count": null,
   "metadata": {
    "collapsed": true
   },
   "outputs": [],
   "source": [
    "# centered\n",
    "def stan_model_c():\n",
    "  return pickle.load(open('1wayN_centered.pkl', 'rb'))\n",
    "\n",
    "# non-centered\n",
    "def stan_model_nc():\n",
    "  return pickle.load(open('1wayN_noncentered.pkl', 'rb'))"
   ]
  },
  {
   "cell_type": "markdown",
   "metadata": {},
   "source": [
    "## 2. Inference\n",
    "\n",
    "The configurations for NUTS taken from [1]"
   ]
  },
  {
   "cell_type": "markdown",
   "metadata": {},
   "source": [
    "### NUTS - centered"
   ]
  },
  {
   "cell_type": "code",
   "execution_count": null,
   "metadata": {
    "collapsed": true
   },
   "outputs": [],
   "source": [
    "def stan_nuts_c(seeds=SEED):\n",
    "  \"\"\"\n",
    "  Runs Stan's NUTS algorithm for centered parameterization\n",
    "  Default parameters: configuration from the paper\n",
    "  \"\"\"\n",
    "  Y, theta = generate_datasets(seeds=seeds)\n",
    "  sm_c = stan_model_c()\n",
    "  for y,seed in zip(Y, seeds):\n",
    "    print(seed)\n",
    "    stan_data = dict(I=I, y=y, sigma=[SIGMA]*I)\n",
    "    start = timer()\n",
    "    fit = sm_c.sampling(data=stan_data, iter=100000, thin=1000, \n",
    "                                  warmup=5000, chains=4, seed=seed, \n",
    "                                  refresh=100000, control=dict(adapt_delta = 0.999))\n",
    "    end = timer()\n",
    "    e = fit.extract(permuted=False)[:,:,:2].mean(axis=1)\n",
    "    results = {'mu': e[:,0], 'tau': e[:,1], 'time': end-start, 'iters': 100000, 'warmup': 5000, 'thin': 1000, 'divergences': int(count_divergences(fit))}\n",
    "    with open('results/stan/nuts_c_{}.pkl'.format(seed), 'wb') as f:\n",
    "      pickle.dump(results, f)\n",
    "  print('Done')"
   ]
  },
  {
   "cell_type": "markdown",
   "metadata": {},
   "source": [
    "### NUTS - non-centered"
   ]
  },
  {
   "cell_type": "code",
   "execution_count": null,
   "metadata": {
    "collapsed": true
   },
   "outputs": [],
   "source": [
    "# default is nominal, other option baseline\n",
    "def stan_nuts_nc(iters=50000, warmup=5000, adapt_delta=0.8, mode='nominal', seeds=SEED):\n",
    "  \"\"\"\n",
    "  Runs Stan's NUTS algorithm for non-centered parameterization\n",
    "  Default parameters: nominal configuration from the paper\n",
    "  For baseline use: iters=100000, warmup=5000, adapt_delta=0.99, mode='baseline'\n",
    "  \"\"\"\n",
    "  Y, theta = generate_datasets(seeds=seeds)\n",
    "  sm_nc = stan_model_nc()\n",
    "  for y,seed in zip(Y, seeds):\n",
    "    print(seed)\n",
    "    stan_data = dict(I=I, y=y, sigma=[SIGMA]*I)\n",
    "    start = timer()\n",
    "    fit = sm_c.sampling(data=stan_data, iter=iters, warmup=warmup, chains=4, seed=seed, \n",
    "                                  refresh=100000, control=dict(adapt_delta=adapt_delta))\n",
    "    end = timer()\n",
    "    e = fit.extract(permuted=False)[:,:,:2].mean(axis=1)\n",
    "    results = {'mu': e[:,0], 'tau': e[:,1], 'time': end-start, 'iters': iters, 'warmup': warmup, 'divergences': int(count_divergences(fit))}\n",
    "    with open('results/stan/nuts_nc_{}_{}.pkl'.format(mode, seed), 'wb') as f:\n",
    "      pickle.dump(results, f)\n",
    "  print('Done')"
   ]
  },
  {
   "cell_type": "code",
   "execution_count": null,
   "metadata": {
    "collapsed": true
   },
   "outputs": [],
   "source": [
    "# centered\n",
    "stan_nuts_c()"
   ]
  },
  {
   "cell_type": "code",
   "execution_count": null,
   "metadata": {
    "collapsed": true
   },
   "outputs": [],
   "source": [
    "# nominal\n",
    "stan_nuts_nc()"
   ]
  },
  {
   "cell_type": "code",
   "execution_count": null,
   "metadata": {
    "collapsed": true
   },
   "outputs": [],
   "source": [
    "# baseline\n",
    "stan_nuts_nc(iters=100000, warmup=5000, adapt_delta=0.99, mode='baseline', seeds=SEED)"
   ]
  },
  {
   "cell_type": "markdown",
   "metadata": {},
   "source": [
    "## VI"
   ]
  },
  {
   "cell_type": "code",
   "execution_count": null,
   "metadata": {},
   "outputs": [],
   "source": [
    "def stan_vi(mode='c', seeds=SEED):\n",
    "  \"\"\"\n",
    "  Runs Stan's ADVI algorithm (meanfield approximation) \n",
    "  param mode: if 'c' use the centered parameterization, if 'nc' the non-centered\n",
    "  \"\"\"\n",
    "  if mode not in ['c', 'nc']:\n",
    "    raise \"Mode has to be 'c' for centered or 'nc' for non-centered model!\"\n",
    "    \n",
    "  model = stan_model_c() if mode == 'c' else stan_model_nc()\n",
    "  Y, theta = generate_datasets(seeds=seeds)\n",
    "  \n",
    "  for seed, y in zip(seeds, Y):\n",
    "      stan_data = dict(I=I,  y=y, sigma=[SIGMA]*I)\n",
    "      print(seed)\n",
    "      # iters = ...(10000, 150000, 5)\n",
    "      iters = np.linspace(50000, 500000, 5).astype(int)\n",
    "      for it in iters:\n",
    "        start = timer()\n",
    "        fit = model.vb(data=stan_data, algorithm='meanfield', iter=it, \n",
    "                        tol_rel_obj=0.0001, seed=seed, output_samples=1000)\n",
    "        end = timer()\n",
    "        \n",
    "        e = fit['sampler_params']\n",
    "        results = {'iters': it, 'tol': 0.0001, 'time': end-start, 'mu': e[0], 'tau': e[1]}\n",
    "          \n",
    "        with open('results/stan/vi5_{}_{}.pkl'.format(mode, seed), 'ab') as f:\n",
    "          pickle.dump(results, f)\n",
    "  print('Done')"
   ]
  },
  {
   "cell_type": "code",
   "execution_count": null,
   "metadata": {
    "collapsed": true
   },
   "outputs": [],
   "source": [
    "# centered \n",
    "stan_vi()"
   ]
  },
  {
   "cell_type": "code",
   "execution_count": null,
   "metadata": {},
   "outputs": [],
   "source": [
    "# non-centered\n",
    "stan_vi(mode='nc')"
   ]
  },
  {
   "cell_type": "markdown",
   "metadata": {},
   "source": [
    "### References\n",
    "\n",
    "[1] Betancourt, Michael J. and Girolami, Mark. Hamiltonian Monte Carlo for Hierarchical Models. 2013."
   ]
  }
 ],
 "metadata": {
  "kernelspec": {
   "display_name": "Python 3",
   "language": "python",
   "name": "python3"
  },
  "language_info": {
   "codemirror_mode": {
    "name": "ipython",
    "version": 3
   },
   "file_extension": ".py",
   "mimetype": "text/x-python",
   "name": "python",
   "nbconvert_exporter": "python",
   "pygments_lexer": "ipython3",
   "version": "3.6.3"
  }
 },
 "nbformat": 4,
 "nbformat_minor": 2
}
