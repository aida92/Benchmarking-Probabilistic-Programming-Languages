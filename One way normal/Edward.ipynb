{
 "cells": [
  {
   "cell_type": "markdown",
   "metadata": {},
   "source": [
    "# One Way Normal Model in Edward"
   ]
  },
  {
   "cell_type": "code",
   "execution_count": null,
   "metadata": {},
   "outputs": [],
   "source": [
    "from __future__ import absolute_import\n",
    "from __future__ import division\n",
    "from __future__ import print_function\n",
    "\n",
    "from timeit import default_timer as timer\n",
    "import numpy as np\n",
    "import pickle\n",
    "import tensorflow as tf\n",
    "\n",
    "import edward as ed\n",
    "from edward.models import HalfNormal, Normal, Empirical, InverseGamma\n",
    "\n",
    "from utils import generate_datasets, SEED, I, SIGMA, MU"
   ]
  },
  {
   "cell_type": "code",
   "execution_count": null,
   "metadata": {
    "collapsed": true
   },
   "outputs": [],
   "source": [
    "ed.set_seed(42) "
   ]
  },
  {
   "cell_type": "markdown",
   "metadata": {},
   "source": [
    "## 1. Models"
   ]
  },
  {
   "cell_type": "code",
   "execution_count": null,
   "metadata": {
    "collapsed": true
   },
   "outputs": [],
   "source": [
    "# Centered\n",
    "def edward_model_c(y, I=I, sigma=[SIGMA] * I):\n",
    "  mu_e = Normal(0., 5.)\n",
    "  tau_e = HalfNormal(5.) \n",
    "  theta_e = Normal(tf.ones(I) * mu_e, tf.ones(I) * tau_e)\n",
    "  sigma_e = tf.placeholder(tf.float32, I)\n",
    "  y_e = Normal(theta_e, sigma_e)\n",
    "  data = {y_e: y, sigma_e: sigma}\n",
    "    \n",
    "  return mu_e, tau_e, theta_e, y_e, data\n",
    "  \n",
    "# Non centered  \n",
    "def edward_model_nc(y, I=I, sigma=[SIGMA] * I):\n",
    "  mu_e = Normal(0., 5.)\n",
    "  tau_e = HalfNormal(5.)\n",
    "    \n",
    "  vtheta_e = Normal(tf.zeros(I), tf.ones(I))\n",
    "  sigma_e = tf.placeholder(tf.float32, I)\n",
    "  y_e = Normal(mu_e + vtheta_e*tau_e, sigma_e)\n",
    "  data = {y_e: y, sigma_e: sigma}\n",
    "    \n",
    "  return mu_e, tau_e, vtheta_e, y_e, data "
   ]
  },
  {
   "cell_type": "markdown",
   "metadata": {},
   "source": [
    "## 2. Inference"
   ]
  },
  {
   "cell_type": "markdown",
   "metadata": {},
   "source": [
    "### HMC"
   ]
  },
  {
   "cell_type": "code",
   "execution_count": null,
   "metadata": {},
   "outputs": [],
   "source": [
    "def _Ed_HMC_c(y, iters=400000, burn=20000, thin=1000):\n",
    "  \"\"\"\n",
    "  Runs Edward's HMC algorithm for centered parameterization, for one seed\n",
    "  Default configuration adapted from Stan NUTS configuration used in the paper\n",
    "  \n",
    "  Note: runs one longer chain, instead of four\n",
    "  \"\"\"\n",
    "  mu_e, tau_e, theta_e, y_e, data = edward_model_c(y)\n",
    "  q_mu = Empirical(params=tf.Variable(tf.zeros(iters)))\n",
    "  q_tau = Empirical(params=tf.Variable(tf.zeros(iters)))\n",
    "  \n",
    "  inference = ed.HMC({tau_e: q_tau, mu_e: q_mu}, data=data)\n",
    "  start = timer()\n",
    "  inference.run()\n",
    "  end = timer()\n",
    "  \n",
    "  return q_mu.params.eval()[burn:][::thin], q_tau.params.eval()[burn:][::thin], end-start"
   ]
  },
  {
   "cell_type": "code",
   "execution_count": null,
   "metadata": {
    "collapsed": true
   },
   "outputs": [],
   "source": [
    "def Ed_HMC_c(iters=400000, burn=20000, thin=1000, seeds=SEED):\n",
    "  \"\"\"\n",
    "  Runs Edward's HMC algorithm for centered parameterization for each seed\n",
    "  Default configuration adapted from Stan NUTS configuration used in the paper\n",
    "  \"\"\"\n",
    "  Y, theta = generate_datasets(seeds=seeds)\n",
    "  for seed,y in zip(seeds, Y):\n",
    "    print(seed)\n",
    "    q_mu, q_tau, time = _Ed_HMC_c(y, iters, burn, thin)\n",
    "    results = {'time': time, 'mu': q_mu, 'tau': q_tau, 'iters': iters, 'burn': burn, 'thin': thin}\n",
    "    with open('results/edward/hmc_c_{}.pkl'.format(seed), 'wb') as f:\n",
    "      pickle.dump(results, f)\n",
    "  print('Done')"
   ]
  },
  {
   "cell_type": "code",
   "execution_count": null,
   "metadata": {},
   "outputs": [],
   "source": [
    "# centered\n",
    "Ed_HMC_c()"
   ]
  },
  {
   "cell_type": "code",
   "execution_count": null,
   "metadata": {
    "collapsed": true
   },
   "outputs": [],
   "source": [
    "def _Ed_HMC_nc(y, iters=200000, burn=20000):\n",
    "  \"\"\"\n",
    "  Runs Edward's HMC algorithm for centered parameterization, for one seed\n",
    "  Default configuration adapted from nominal Stan NUTS configuration used in the paper,\n",
    "  to use baseline: iters=400000, burn=20000\n",
    "  \n",
    "  Note: runs one longer chain, instead of four\n",
    "  \"\"\"\n",
    "  mu_e, tau_e, vtheta_e, y_e, data = edward_model_nc(y)\n",
    "  q_mu = Empirical(params=tf.Variable(tf.zeros(iters)))\n",
    "  q_tau = Empirical(params=tf.Variable(tf.zeros(iters)))\n",
    "  \n",
    "  inference = ed.HMC({tau_e: q_tau, mu_e: q_mu}, data=data)\n",
    "  start = timer()\n",
    "  inference.run()\n",
    "  end = timer()\n",
    "  \n",
    "  return q_mu.params.eval()[burn:], q_tau.params.eval()[burn:], end-start"
   ]
  },
  {
   "cell_type": "code",
   "execution_count": null,
   "metadata": {
    "collapsed": true
   },
   "outputs": [],
   "source": [
    "def Ed_HMC_nc(iters=200000, burn=20000, mode='nominal', seeds=SEED):\n",
    "  \"\"\"\n",
    "  Runs Edward's HMC algorithm for centered parameterization\n",
    "  Default configuration adapted from nominal Stan NUTS configuration used in the paper,\n",
    "  to use baseline: iters=400000, burn=20000, mode='baseline'\n",
    "  \"\"\"\n",
    "  Y, theta = generate_datasets(seeds=seeds)\n",
    "  for seed,y in zip(seeds, Y):\n",
    "    print(seed)\n",
    "    q_mu, q_tau, time = _Ed_HMC_nc(y, iters, burn)\n",
    "    results = {'time': time, 'mu': q_mu, 'tau': q_tau, 'iters': iters, 'burn': burn}\n",
    "    with open('results/edward/hmc_nc_{}_{}.pkl'.format(mode, seed), 'wb') as f:\n",
    "      pickle.dump(results, f)\n",
    "  print('Done')"
   ]
  },
  {
   "cell_type": "code",
   "execution_count": null,
   "metadata": {},
   "outputs": [],
   "source": [
    "# Nominal\n",
    "Ed_HMC_nc()"
   ]
  },
  {
   "cell_type": "code",
   "execution_count": null,
   "metadata": {},
   "outputs": [],
   "source": [
    "# Baseline \n",
    "Ed_HMC_nc(iters=400000, burn=20000, mode='baseline')"
   ]
  },
  {
   "cell_type": "markdown",
   "metadata": {},
   "source": [
    "## KLqp"
   ]
  },
  {
   "cell_type": "code",
   "execution_count": null,
   "metadata": {
    "collapsed": true
   },
   "outputs": [],
   "source": [
    "def _Ed_VI_c(y, iters):\n",
    "  \"\"\"\n",
    "  Runs Edward's ADVI algorithm, for one seed, using non-cenetered parameterization \n",
    "  \"\"\"\n",
    "  mu_e, tau_e, theta_e, y_e, data = edward_model_c(y)\n",
    "  \n",
    "  with tf.variable_scope('q_mu', reuse=tf.AUTO_REUSE):\n",
    "    q_mu = Normal(tf.get_variable('loc', []),\n",
    "                    tf.nn.softplus(tf.get_variable('scale', [])))\n",
    "  with tf.variable_scope('q_tau', reuse=tf.AUTO_REUSE):\n",
    "    q_tau = HalfNormal(tf.nn.softplus(tf.get_variable('scale', [])))\n",
    "\n",
    "  inference = ed.KLqp({mu_e: q_mu, tau_e: q_tau}, data=data)\n",
    "  start = timer()\n",
    "  inference.run(n_iter=iters)\n",
    "  end = timer()\n",
    "  \n",
    "  return q_mu, q_tau, end-start"
   ]
  },
  {
   "cell_type": "code",
   "execution_count": null,
   "metadata": {
    "collapsed": true
   },
   "outputs": [],
   "source": [
    "def _Ed_VI_nc(y, iters):\n",
    "  \"\"\"\n",
    "  Runs Edward's ADVI algorithm, for one seed, using cenetered parameterization \n",
    "  \"\"\"\n",
    "  mu_e, tau_e, v_theta_e, y_e, data = edward_model_nc(y)\n",
    "  \n",
    "  with tf.variable_scope('q_mu', reuse=tf.AUTO_REUSE):\n",
    "    q_mu = Normal(tf.get_variable('loc', []),\n",
    "                    tf.nn.softplus(tf.get_variable('scale', [])))\n",
    "  with tf.variable_scope('q_tau', reuse=tf.AUTO_REUSE):\n",
    "    q_tau = HalfNormal(tf.nn.softplus(tf.get_variable('scale', [])))\n",
    "\n",
    "  inference = ed.KLqp({mu_e: q_mu, tau_e: q_tau}, data=data)\n",
    "  start = timer()\n",
    "  inference.run(n_iter=iters)\n",
    "  end = timer()\n",
    "  \n",
    "  return q_mu, q_tau, end-start"
   ]
  },
  {
   "cell_type": "code",
   "execution_count": null,
   "metadata": {
    "collapsed": true
   },
   "outputs": [],
   "source": [
    "def Ed_VI(mode='c', seeds=SEED):\n",
    "  \"\"\"\n",
    "  Runs Edward's KLqp algorithm\n",
    "  If mode is 'c', use the centered parameterization\n",
    "  If mode is 'nc', use the non-centered parameterization\n",
    "  \"\"\"\n",
    "  if mode not in ['c', 'nc']:\n",
    "    raise \"Mode must be 'c' for centered or 'nc' for non centered\"\n",
    "  Y, theta = generate_datasets(seeds=seeds)\n",
    "  for y,seed in zip(Y, seeds):\n",
    "    print(seed)\n",
    "    iters = np.linspace(50000, 500000, 5).astype(int)\n",
    "    for n in iters:\n",
    "      q_mu, q_tau, time = _Ed_VI_c(y, n) if mode == 'c' else _Ed_VI_nc(y, n)\n",
    "      results = {'time': time, 'iters': n, 'mu': q_mu.sample(1000).eval()[:,None], 'tau': q_tau.sample(1000).eval()[:,None]} \n",
    "          \n",
    "      with open('results/edward/vi_{}_{}.pkl'.format(mode, seed), 'ab') as f:\n",
    "        pickle.dump(results, f)\n",
    "    print('Done')"
   ]
  },
  {
   "cell_type": "code",
   "execution_count": null,
   "metadata": {},
   "outputs": [],
   "source": [
    "# Centered\n",
    "Ed_VI()"
   ]
  },
  {
   "cell_type": "code",
   "execution_count": null,
   "metadata": {},
   "outputs": [],
   "source": [
    "# Non-centered\n",
    "Ed_VI(mode='nc')"
   ]
  },
  {
   "cell_type": "markdown",
   "metadata": {},
   "source": [
    "### References\n",
    "\n",
    "[1] Betancourt, Michael J. and Girolami, Mark. Hamiltonian Monte Carlo for Hierarchical Models. 2013."
   ]
  }
 ],
 "metadata": {
  "kernelspec": {
   "display_name": "Python 3",
   "language": "python",
   "name": "python3"
  },
  "language_info": {
   "codemirror_mode": {
    "name": "ipython",
    "version": 3
   },
   "file_extension": ".py",
   "mimetype": "text/x-python",
   "name": "python",
   "nbconvert_exporter": "python",
   "pygments_lexer": "ipython3",
   "version": "3.6.3"
  }
 },
 "nbformat": 4,
 "nbformat_minor": 2
}
